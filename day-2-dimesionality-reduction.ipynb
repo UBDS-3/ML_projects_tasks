{
 "cells": [
  {
   "cell_type": "markdown",
   "metadata": {},
   "source": [
    "# Principal Component Analysis (PCA)\n",
    "\n",
    "Principal Component Analysis (PCA) is a statistical technique used for dimensionality reduction and data transformation. It aims to identify the directions (principal components) in which the data varies the most, and represents the data in a new coordinate system defined by these components.\n",
    "\n",
    "The key idea behind PCA is to find a lower-dimensional representation of the data that captures the maximum amount of variance. It achieves this through an orthogonal projection of the original features into a smaller set of uncorrelated variables, called principal components. The first principal component is the direction that captures the most amount of variance in the data, followed by the second principal component, and so on. The principal components are linear combinations of the original features. \n",
    "\n",
    "Here's a step-by-step overview of how PCA works:\n",
    "- **Standardize the data:** If the features have different scales or units, it is important to standardize the data by subtracting the mean and dividing by the standard deviation. This step ensures that all features are on a similar scale and prevents dominance by features with larger variances.\n",
    "\n",
    "- **Compute the covariance matrix:** The covariance matrix is computed to understand the relationships and dependencies between the different features in the data.\n",
    "\n",
    "- **Perform eigendecomposition:** The covariance matrix is decomposed into its eigenvectors and eigenvalues. The eigenvectors represent the principal components, and the eigenvalues indicate the amount of variance explained by each principal component.\n",
    "\n",
    "- **Select a number of principal components:** The principal components are ranked based on their corresponding eigenvalues, and the top components capturing the most variance are selected. The number of principal components to retain depends on thedesired level of dimensionality reduction.\n",
    "\n",
    "- **Project the data onto the coordinate system defined by the chosen components:** The original data is transformed by projecting it onto the selected principal components. Each data point is represented by its new coordinates in the principal component space.\n",
    "\n",
    "PCA is a powerful tool for exploratory data analysis, visualization, and feature extraction. It helps to identify patterns, reduce noise, and provide a concise representation of the data. PCA is widely used in various fields, including image processing, signal processing, genetics, finance, and social sciences, where dimensionality reduction and data compression are necessary.\n",
    "\n",
    "<img src=\"./images/projplane.gif\" width=\"400\"/>\n",
    "\n",
    "### General procedure (by hand)\n",
    "\n",
    "Let's start by coding the algorithm by hand. Later on, we'll use Sklearn's PCA and project your data into the two first principal components\n",
    "\n",
    "1. Standardize the data\n",
    "2. Calculate the covariance matrix\n",
    "3. Calculate the eigenvalues and eigenvectors of the covariance matrix\n",
    "4. Select the most significant components (~95%) or the first two in case you want to visualize the projection\n",
    "5. Transform the data\n",
    "\n",
    "For our first example, we'll generate 50 random data points close to the line $y=2x$. "
   ]
  },
  {
   "cell_type": "code",
   "execution_count": 60,
   "metadata": {},
   "outputs": [
    {
     "data": {
      "text/plain": [
       "<matplotlib.axes._subplots.AxesSubplot at 0x7f82e0878278>"
      ]
     },
     "execution_count": 60,
     "metadata": {},
     "output_type": "execute_result"
    },
    {
     "data": {
      "image/png": "[encoded data removed]",
      "text/plain": [
       "<Figure size 432x288 with 1 Axes>"
      ]
     },
     "metadata": {
      "needs_background": "light"
     },
     "output_type": "display_data"
    }
   ],
   "source": [
    "import matplotlib.pyplot as plt\n",
    "import numpy as np\n",
    "import pandas as pd\n",
    "\n",
    "x = np.random.rand(50)\n",
    "y = 2*x + np.random.rand(50)\n",
    "df = pd.DataFrame(np.array([x,y]).T)\n",
    "df.plot.scatter(x=0,y=1)"
   ]
  },
  {
   "cell_type": "markdown",
   "metadata": {},
   "source": [
    "The code below performs all the needed operations by hand. Can you interpret it? "
   ]
  },
  {
   "cell_type": "code",
   "execution_count": 105,
   "metadata": {},
   "outputs": [
    {
     "name": "stdout",
     "output_type": "stream",
     "text": [
      "[ 0.08049023  0.06146803  1.43483327  0.82595893 -1.72324723  1.4943897\n",
      "  1.78771062 -1.16956771 -0.20043595 -0.22909152 -1.93848639 -1.53362266\n",
      " -0.59058193  0.32510826 -0.34423197 -1.01887731 -0.9432649   1.31453505\n",
      "  1.48599331  1.6804994   0.29133354  1.26824076 -2.08813933 -1.7596977\n",
      "  2.0133611   1.26208528  0.18276241  1.21643484  0.57483157  0.16591535\n",
      "  0.47933691 -1.29963633 -0.09509553 -1.49670351 -0.15318394 -1.83411393\n",
      "  0.43134769  1.75052841 -1.74740039 -2.28415306  1.68556698 -0.76506829\n",
      " -2.24397372 -2.0870175  -0.12914932  1.81756985 -1.43365892  1.71836092\n",
      "  2.24484037  1.51489628]\n"
     ]
    },
    {
     "data": {
      "image/png": "[encoded data removed]",
      "text/plain": [
       "<Figure size 432x288 with 1 Axes>"
      ]
     },
     "metadata": {
      "needs_background": "light"
     },
     "output_type": "display_data"
    }
   ],
   "source": [
    "# Task 1: In each step, indicate what the code is doing. \n",
    "# Additionally, identify what each of the v1,..,v6 represent and write it in the comments\n",
    "\n",
    "# Step 1:\n",
    "v1 =(df-df.mean())/df.std()\n",
    "#v1:\n",
    "\n",
    "# Step 2:\n",
    "v2 = np.cov(v1.T)\n",
    "#v2: \n",
    "\n",
    "# Step 3:\n",
    "v3, v4 = np.linalg.eig(v2)\n",
    "#v3:\n",
    "#v4:\n",
    "\n",
    "# Step 4:\n",
    "v5 = 1\n",
    "#v5:\n",
    "\n",
    "# Step 5:\n",
    "v6 = np.dot(v1, v4[:,1:2]).flatten()\n",
    "#v6:\n",
    "\n",
    "# Final Plot\n",
    "plt.scatter(v6, np.zeros_like(v6))\n",
    "print(v6)"
   ]
  },
  {
   "cell_type": "markdown",
   "metadata": {},
   "source": [
    "The transformation **T = X W** maps a data vector $x_{(i)}$ from an original space with p variables to a lower dimensional space. Nonetheless, we don't need to maintain all principal components. Select the two eigenvectors with the largest eigenvalues and do the follwing mapping: $\\begin{gather*}\n",
    "{\\displaystyle \\mathbf {T}=\\mathbf {X} \\mathbf {W}}\n",
    "\\end{gather*}\n",
    "$"
   ]
  },
  {
   "cell_type": "markdown",
   "metadata": {},
   "source": [
    "This process, can be automated using the `sklearn` package PCA. "
   ]
  },
  {
   "cell_type": "code",
   "execution_count": 111,
   "metadata": {},
   "outputs": [
    {
     "name": "stdout",
     "output_type": "stream",
     "text": [
      "[-0.08049023 -0.06146803 -1.43483327 -0.82595893  1.72324723 -1.4943897\n",
      " -1.78771062  1.16956771  0.20043595  0.22909152  1.93848639  1.53362266\n",
      "  0.59058193 -0.32510826  0.34423197  1.01887731  0.9432649  -1.31453505\n",
      " -1.48599331 -1.6804994  -0.29133354 -1.26824076  2.08813933  1.7596977\n",
      " -2.0133611  -1.26208528 -0.18276241 -1.21643484 -0.57483157 -0.16591535\n",
      " -0.47933691  1.29963633  0.09509553  1.49670351  0.15318394  1.83411393\n",
      " -0.43134769 -1.75052841  1.74740039  2.28415306 -1.68556698  0.76506829\n",
      "  2.24397372  2.0870175   0.12914932 -1.81756985  1.43365892 -1.71836092\n",
      " -2.24484037 -1.51489628]\n"
     ]
    }
   ],
   "source": [
    "# Task 2: Write your comments here\n",
    "# Modify the code below so that you obtain the same result as what you did by hand above: \n",
    "\n",
    "from sklearn.decomposition import PCA\n",
    "\n",
    "n_components = 1\n",
    "pca = PCA(n_components=n_components)\n",
    "\n",
    "proj_sdata = pca.fit_transform(v1)\n",
    "\n",
    "print(proj_sdata.flatten())"
   ]
  },
  {
   "cell_type": "code",
   "execution_count": null,
   "metadata": {},
   "outputs": [],
   "source": [
    "from matplotlib.colors import ListedColormap\n",
    "\n",
    "colormap = ListedColormap(['c', 'm', 'y'])\n",
    "scatter = plt.scatter(projected_data[:,0], projected_data[:,1], c=y, cmap=colormap)\n",
    "plt.legend(handles = scatter.legend_elements()[0], labels=list(iris['target_names']))\n",
    "plt.xlabel('PCA component 1', fontsize=14)\n",
    "plt.ylabel('PCA component 2', fontsize=14)"
   ]
  },
  {
   "cell_type": "code",
   "execution_count": null,
   "metadata": {},
   "outputs": [],
   "source": [
    "# Import the dataset\n",
    "df = pd.read_csv(\"gene_expression.csv\")\n",
    "\n",
    "# Separate features and labels\n",
    "X = df.drop(\"Label\", axis=1)\n",
    "y = df[\"Label\"]\n",
    "\n",
    "# PCA\n",
    "pca = PCA(n_components=2)\n",
    "X_pca = pca.fit_transform(X)\n",
    "\n",
    "# Visualize PCA\n",
    "plt.figure(figsize=(8, 6))\n",
    "sns.scatterplot(x=X_pca[:, 0], y=X_pca[:, 1], hue=y, palette=\"Set2\")\n",
    "plt.title(\"PCA on Gene Expression Data\")\n",
    "plt.xlabel(\"PC1\")\n",
    "plt.ylabel(\"PC2\")\n",
    "plt.grid(True)\n",
    "plt.show()\n",
    "\n",
    "\n",
    "# Explained variance from PCA\n",
    "plt.figure(figsize=(6, 4))\n",
    "plt.plot(np.cumsum(pca.explained_variance_ratio_)[:20], marker='o')\n",
    "plt.title(\"Explained Variance by PCA Components\")\n",
    "plt.xlabel(\"Number of Components\")\n",
    "plt.ylabel(\"Cumulative Explained Variance\")\n",
    "plt.grid(True)\n",
    "plt.show()"
   ]
  },
  {
   "cell_type": "code",
   "execution_count": null,
   "metadata": {},
   "outputs": [],
   "source": [
    "# Alternative: t-SNE\n",
    "tsne = TSNE(n_components=2, perplexity=30, random_state=42)\n",
    "X_tsne = tsne.fit_transform(X)\n",
    "\n",
    "# Visualize t-SNE\n",
    "plt.figure(figsize=(8, 6))\n",
    "sns.scatterplot(x=X_tsne[:, 0], y=X_tsne[:, 1], hue=y, palette=\"Set1\")\n",
    "plt.title(\"t-SNE on Gene Expression Data\")\n",
    "plt.xlabel(\"t-SNE 1\")\n",
    "plt.ylabel(\"t-SNE 2\")\n",
    "plt.grid(True)\n",
    "plt.show()"
   ]
  },
  {
   "cell_type": "code",
   "execution_count": null,
   "metadata": {},
   "outputs": [],
   "source": [
    "# Alternative: UMAP\n",
    "reducer = umap.UMAP(random_state=42)\n",
    "X_umap = reducer.fit_transform(X)\n",
    "\n",
    "# Visualize UMAP\n",
    "plt.figure(figsize=(8, 6))\n",
    "sns.scatterplot(x=X_umap[:, 0], y=X_umap[:, 1], hue=y, palette=\"Set3\")\n",
    "plt.title(\"UMAP on Gene Expression Data\")\n",
    "plt.xlabel(\"UMAP 1\")\n",
    "plt.ylabel(\"UMAP 2\")\n",
    "plt.grid(True)\n",
    "plt.show()"
   ]
  },
  {
   "cell_type": "markdown",
   "metadata": {},
   "source": [
    "## Iris Classification\n",
    "# 🌸 The Iris Dataset\n",
    "\n",
    "The **Iris dataset** is a classic dataset used in statistics and machine learning. It contains measurements of iris flowers from three different species.\n",
    "\n",
    "---\n",
    "\n",
    "## 📦 Dataset Overview\n",
    "\n",
    "- **Total samples**: 150\n",
    "- **Classes**: 3 iris species\n",
    "  - *Setosa*\n",
    "  - *Versicolor*\n",
    "  - *Virginica*\n",
    "- **Features**: 4 numeric measurements (in cm)\n",
    "\n",
    "| Feature             | Description                           |\n",
    "|---------------------|---------------------------------------|\n",
    "| `sepal length`      | Length of the sepal (outer part)      |\n",
    "| `sepal width`       | Width of the sepal                    |\n",
    "| `petal length`      | Length of the petal (inner part)      |\n",
    "| `petal width`       | Width of the petal                    |\n",
    "\n",
    "---\n",
    "\n",
    "## 🧪 Example Sample\n",
    "\n",
    "| Sepal Length | Sepal Width | Petal Length | Petal Width | Species     |\n",
    "|--------------|-------------|--------------|-------------|-------------|\n",
    "| 5.1          | 3.5         | 1.4          | 0.2         | Setosa      |\n",
    "\n",
    "---\n",
    "\n",
    "## 🧠 Common Uses\n",
    "\n",
    "The Iris dataset is widely used to:\n",
    "\n",
    "- Practice **classification** (e.g., logistic regression, decision trees, SVMs)\n",
    "- Apply **dimensionality reduction** (e.g., PCA, t-SNE)\n",
    "- Explore **clustering** (e.g., k-means)\n",
    "- Visualize data in 2D and 3D\n",
    "- Test basic machine learning workflows\n",
    "\n",
    "---\n",
    "\n",
    "## 📥 Loading the Dataset in Python\n",
    "\n",
    "Using **scikit-learn**:\n",
    "```python\n",
    "from sklearn.datasets import load_iris\n",
    "\n",
    "data = load_iris()\n",
    "X = data.data       # shape: (150, 4)\n",
    "y = data.target     # 0 = Setosa, 1 = Versicolor, 2 = Virginica\n"
   ]
  },
  {
   "cell_type": "code",
   "execution_count": 116,
   "metadata": {},
   "outputs": [
    {
     "name": "stdout",
     "output_type": "stream",
     "text": [
      "dict_keys(['data', 'target', 'target_names', 'DESCR', 'feature_names', 'filename'])\n"
     ]
    }
   ],
   "source": [
    "from sklearn.datasets import load_iris\n",
    "\n",
    "iris = load_iris()\n",
    "print(iris.keys())"
   ]
  },
  {
   "cell_type": "code",
   "execution_count": null,
   "metadata": {},
   "outputs": [],
   "source": [
    "#Task \n",
    "#Create a vector X in which each element is a list of 4 features\n",
    "\n",
    "#"
   ]
  }
 ],
 "metadata": {
  "kernelspec": {
   "display_name": "Python 3",
   "language": "python",
   "name": "python3"
  },
  "language_info": {
   "codemirror_mode": {
    "name": "ipython",
    "version": 3
   },
   "file_extension": ".py",
   "mimetype": "text/x-python",
   "name": "python",
   "nbconvert_exporter": "python",
   "pygments_lexer": "ipython3",
   "version": "3.7.3"
  }
 },
 "nbformat": 4,
 "nbformat_minor": 5
}
